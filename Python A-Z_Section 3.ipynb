{
 "cells": [
  {
   "cell_type": "code",
   "execution_count": 1,
   "metadata": {
    "collapsed": true
   },
   "outputs": [],
   "source": [
    "# Packagaes in python \n",
    "\n",
    "# Modules \n",
    "# Packages\n",
    "\n",
    "# Find the package your after (Best place is gitHub)\n",
    "# Install the package (pip install)\n",
    "\n"
   ]
  },
  {
   "cell_type": "code",
   "execution_count": 1,
   "metadata": {
    "collapsed": true
   },
   "outputs": [],
   "source": [
    "#Numpy arrays \n",
    "\n",
    "import numpy as np "
   ]
  },
  {
   "cell_type": "code",
   "execution_count": 2,
   "metadata": {
    "collapsed": true
   },
   "outputs": [],
   "source": [
    "#numpy array will only accept one data type \n",
    "#lots of goof functions with a array \n",
    "#can do a 2d array (matrix)\n",
    "\n",
    "a = list(range(20))\n",
    "\n",
    "# Create a numpy array by passing in a list \n",
    "b = np.array(a)"
   ]
  },
  {
   "cell_type": "code",
   "execution_count": 7,
   "metadata": {},
   "outputs": [
    {
     "data": {
      "text/plain": [
       "9.5"
      ]
     },
     "execution_count": 7,
     "metadata": {},
     "output_type": "execute_result"
    }
   ],
   "source": [
    "# Look at all of the functions that can be used with arrays\n",
    "b.mean()"
   ]
  },
  {
   "cell_type": "code",
   "execution_count": 3,
   "metadata": {},
   "outputs": [
    {
     "data": {
      "text/plain": [
       "array([ 2,  3,  4,  5,  6,  7,  8,  9, 10, 11, 12, 13, 14, 15, 16, 17, 18,\n",
       "       19])"
      ]
     },
     "execution_count": 3,
     "metadata": {},
     "output_type": "execute_result"
    }
   ],
   "source": [
    "# Slicing Arrays \n",
    "# When slicing arrays you are working with a reference to the original array \n",
    "\n",
    "b[2:]"
   ]
  },
  {
   "cell_type": "code",
   "execution_count": 6,
   "metadata": {
    "collapsed": true
   },
   "outputs": [],
   "source": [
    "b[2:7] = 111"
   ]
  },
  {
   "cell_type": "code",
   "execution_count": 7,
   "metadata": {},
   "outputs": [
    {
     "data": {
      "text/plain": [
       "array([  0,   1, 111, 111, 111, 111, 111,   7,   8,   9,  10,  11,  12,\n",
       "        13,  14,  15,  16,  17,  18,  19])"
      ]
     },
     "execution_count": 7,
     "metadata": {},
     "output_type": "execute_result"
    }
   ],
   "source": [
    "b"
   ]
  },
  {
   "cell_type": "code",
   "execution_count": 10,
   "metadata": {
    "collapsed": true
   },
   "outputs": [],
   "source": [
    "c = b.copy()"
   ]
  },
  {
   "cell_type": "code",
   "execution_count": 15,
   "metadata": {
    "collapsed": true
   },
   "outputs": [],
   "source": [
    "c[0]= 555"
   ]
  },
  {
   "cell_type": "markdown",
   "metadata": {},
   "source": [
    "---"
   ]
  },
  {
   "cell_type": "code",
   "execution_count": 17,
   "metadata": {
    "collapsed": true
   },
   "outputs": [],
   "source": [
    "# Financial statement analysis - Homework "
   ]
  },
  {
   "cell_type": "code",
   "execution_count": 29,
   "metadata": {},
   "outputs": [
    {
     "name": "stdout",
     "output_type": "stream",
     "text": [
      "\n"
     ]
    }
   ],
   "source": [
    "\"\"\"\n",
    "Scenario: You are a Data scientist working for a consuting firm. \n",
    "One of your collegues from the auditing departmenthas asked you \n",
    "to help them assess the financial statement of organisation x.\n",
    "\n",
    "You have been supplied with two list of data: monthly revenue\n",
    "and monthly expenses for the financial year in question. \n",
    "\n",
    "Your task is to calculate the following financial metrics:\n",
    "\n",
    "profit for each month.\n",
    "Profit after tax for each month (30%)\n",
    "Profit margin for each month: Profit after tax divided by revenue\n",
    "Good months: where profit after tax was greater than the mean for the year\n",
    "Bad months: where profit after tax was less than the mean for the year\n",
    "The best month: Where profit after tax was max for the year.\n",
    "The worst month: \n",
    "\n",
    "===============================================================\n",
    "\n",
    "All results in lists.\n",
    "\n",
    "Dollar values calculated to $0.01 \n",
    "precision but presented in units of $1k\n",
    "\n",
    "results for profit margin ratio presented in % with 0dp\n",
    "\n",
    "its ok for tax to be negative\n",
    "\n",
    "\n",
    "round()\n",
    "max()\n",
    "min()\n",
    "\n",
    "\n",
    "print(\"\")"
   ]
  },
  {
   "cell_type": "code",
   "execution_count": 76,
   "metadata": {},
   "outputs": [
    {
     "name": "stdout",
     "output_type": "stream",
     "text": [
      "Revenue :\n",
      "[ 14574.49   7606.46   8611.41   9175.41   8058.65   8105.44  11496.28\n",
      "   9766.09  10305.32  14379.96  10713.97  15433.5 ]\n",
      "Expenses :\n",
      "[ 12051.82   5695.07  12319.2   12089.72   8658.57    840.2    3285.73\n",
      "   5821.12   6976.93  16618.61  10054.37   3803.96]\n",
      "Profit :\n",
      "[  2522.67   1911.39  -3707.79  -2914.31   -599.92   7265.24   8210.55\n",
      "   3944.97   3328.39  -2238.65    659.6   11629.54]\n",
      "Profit after tax :\n",
      "[ 1765.87  1337.97 -2595.45 -2040.02  -419.94  5085.67  5747.38  2761.48\n",
      "  2329.87 -1567.06   461.72  8140.68]\n",
      "Profit margin :\n",
      "[ 12.  18. -30. -22.  -5.  63.  50.  28.  23. -11.   4.  53.]\n",
      "Good months :\n",
      "[ True False False False False  True  True  True  True False False  True]\n",
      "Bad months :\n",
      "[False  True  True  True  True False False False False  True  True False]\n",
      "Best month :\n",
      "8140.678\n",
      "Worst month :\n",
      "-2595.45\n"
     ]
    }
   ],
   "source": [
    "# THIS WAS MY ATTEMPT\n",
    "\n",
    "#Data \n",
    "\n",
    "import numpy \n",
    "\n",
    "revenue = [14574.49, 7606.46, 8611.41, 9175.41, 8058.65, 8105.44, 11496.28, 9766.09, 10305.32, 14379.96, 10713.97, 15433.50]\n",
    "expenses = [12051.82, 5695.07, 12319.20, 12089.72, 8658.57, 840.20, 3285.73, 5821.12, 6976.93, 16618.61, 10054.37, 3803.96]\n",
    "\n",
    "revenueA = numpy.array(revenue)\n",
    "expensesA = numpy.array(expenses)\n",
    "\n",
    "#Profit for each month\n",
    "\n",
    "profit = revenueA - expensesA\n",
    "profit\n",
    "\n",
    "#Profit after tax for each month (30%)\n",
    "\n",
    "\n",
    "profitAT = profit * 0.70\n",
    "profitATR = profitAT.round(2)\n",
    "profitATR\n",
    "\n",
    "#Profit margin for each month: Profit after tax divided by revenue\n",
    "profitM = (profitAT/revenueA).round(2) * 100\n",
    "profitM\n",
    "\n",
    "#Good months: where profit after tax was greater than the mean for the year\n",
    "mean = profitAT.mean()\n",
    "mean \n",
    "\n",
    "goodM = profitAT > mean\n",
    "goodM\n",
    "\n",
    "\n",
    "#Bad months: where profit after tax was less than the mean for the year\n",
    "\n",
    "badM = profitAT < mean\n",
    "badM\n",
    "\n",
    "#The best month: Where profit after tax was max for the year.\n",
    "\n",
    "bestM = profitAT.max()\n",
    "bestM.round(2)\n",
    "\n",
    "#The worst month: Where profit after tax was min for the year.\n",
    "worstM = profitAT.min()\n",
    "worstM = worstM.round(2)\n",
    "\n",
    "#Print Results\n",
    "print (\"Revenue :\") \n",
    "print (revenueA)\n",
    "print (\"Expenses :\") \n",
    "print (expensesA)\n",
    "print (\"Profit :\")\n",
    "print(profit)\n",
    "print (\"Profit after tax :\")\n",
    "print (profitATR)\n",
    "print (\"Profit margin :\")\n",
    "print (profitM)\n",
    "print (\"Good months :\")\n",
    "print (goodM)\n",
    "print (\"Bad months :\")\n",
    "print (badM)\n",
    "print (\"Best month :\")\n",
    "print (bestM)\n",
    "print (\"Worst month :\")\n",
    "print (worstM)\n"
   ]
  },
  {
   "cell_type": "markdown",
   "metadata": {},
   "source": [
    "---"
   ]
  },
  {
   "cell_type": "code",
   "execution_count": 73,
   "metadata": {},
   "outputs": [
    {
     "name": "stdout",
     "output_type": "stream",
     "text": [
      "Revenue :\n",
      "[15000, 8000, 9000, 9000, 8000, 8000, 11000, 10000, 10000, 14000, 11000, 15000]\n",
      "Expenses :\n",
      "[12000, 6000, 12000, 12000, 9000, 1000, 3000, 6000, 7000, 17000, 10000, 4000]\n",
      "Profit :\n",
      "[3000, 2000, -4000, -3000, -1000, 7000, 8000, 4000, 3000, -2000, 1000, 12000]\n",
      "Profit after tax :\n",
      "[2000, 1000, -3000, -2000, 0, 5000, 6000, 3000, 2000, -2000, 0, 8000]\n",
      "Profit margin :\n",
      "[12.0, 18.0, -30.0, -22.0, -5.0, 63.0, 50.0, 28.000000000000004, 23.0, -11.0, 4.0, 53.0]\n",
      "Good months :\n",
      "[True, False, False, False, False, True, True, True, True, False, False, True]\n",
      "Bad months :\n",
      "[False, True, True, True, True, False, False, False, False, True, True, False]\n",
      "Best month :\n",
      "[False, False, False, False, False, False, False, False, False, False, False, True]\n",
      "Worst month :\n",
      "[False, False, True, False, False, False, False, False, False, False, False, False]\n"
     ]
    }
   ],
   "source": [
    "###original fill in the blanks\n",
    "\n",
    "#Data \n",
    "revenue = [14574.49, 7606.46, 8611.41, 9175.41, 8058.65, 8105.44, 11496.28, 9766.09, 10305.32, 14379.96, 10713.97, 15433.50]\n",
    "expenses = [12051.82, 5695.07, 12319.20, 12089.72, 8658.57, 840.20, 3285.73, 5821.12, 6976.93, 16618.61, 10054.37, 3803.96]\n",
    "\n",
    "#Solution\n",
    "#Calculate Profit As The Differences Between Revenue And Expenses\n",
    "profit = []\n",
    "for i in range (0, len(revenue)):\n",
    "    profit.append(revenue[i] - expenses [i])\n",
    "profit\n",
    "\n",
    "#Calculate Tax As 30% Of Profit And Round To 2 Decimal Points\n",
    "tax = [round(i *0.30, 2) for i in profit]\n",
    "tax\n",
    "\n",
    "#Calculate Profit Remaining After Tax Is Deducted\n",
    "profit_after_tax = []\n",
    "for i in range (0, len(tax)):\n",
    "    profit_after_tax.append(profit[i] - tax[i])\n",
    "profit_after_tax\n",
    "\n",
    "#Calculate The Profit Margin As Profit After Tax Over Revenue\n",
    "#Round To 2 Decimal Points, Then Multiply By 100 To Get %\n",
    "profit_margin = []\n",
    "for i in range (0, len(revenue)):\n",
    "    profit_margin.append(profit_after_tax[i] / revenue[i])\n",
    "profit_margin\n",
    "\n",
    "profit_margin = [round((i),2) for i in profit_margin]\n",
    "\n",
    "profit_margin = [i * 100 for i in profit_margin]\n",
    "profit_margin\n",
    "\n",
    "#Calculate The Mean Profit After Tax For The 12 Months\n",
    "mean_pat = sum(profit_after_tax) / len(profit_margin)\n",
    "mean_pat\n",
    "\n",
    "#Find The Months With Above-Mean Profit After Tax\n",
    "good_months = []\n",
    "for i in range (0, len(revenue)):\n",
    "    good_months.append(profit_after_tax[i] > mean_pat)\n",
    "good_months\n",
    "\n",
    "#Bad Months Are The Opposite Of Good Months!\n",
    "bad_months = []\n",
    "for i in range (0, len(revenue)):\n",
    "    bad_months.append(not (good_months[i]))\n",
    "bad_months\n",
    "\n",
    "#The Best Month Is Where Profit After Tax Was Equal To The Maximum\n",
    "best_month = []\n",
    "for i in range (0, len(revenue)):\n",
    "    best_month.append(profit_after_tax[i] == max(profit_after_tax))\n",
    "best_month\n",
    "\n",
    "#The Worst Month Is Where Profit After Tax Was Equal To The Minimum\n",
    "worst_month = []\n",
    "for i in range (0, len(revenue)):\n",
    "    worst_month.append(profit_after_tax[i] == min(profit_after_tax))\n",
    "worst_month\n",
    "\n",
    "#Convert All Calculations To Units Of One Thousand Dollars\n",
    "revenue_1000 = [round(i, -3) for i in revenue]\n",
    "expenses_1000 = [round(i, -3) for i in expenses]\n",
    "profit_1000 = [round(i, -3) for i in profit]\n",
    "profit_after_tax_1000 = [round(i, -3) for i in profit_after_tax]\n",
    "\n",
    "revenue_1000 = [int(i) for i in revenue_1000]\n",
    "expenses_1000 = [int(i) for i in expenses_1000]\n",
    "profit_1000 = [int(i) for i in profit_1000]\n",
    "profit_after_tax_1000 = [int(i) for i in profit_after_tax_1000]\n",
    "\n",
    "#Print Results\n",
    "print (\"Revenue :\") \n",
    "print (revenue_1000)\n",
    "print (\"Expenses :\") \n",
    "print (expenses_1000)\n",
    "print (\"Profit :\")\n",
    "print(profit_1000)\n",
    "print (\"Profit after tax :\")\n",
    "print (profit_after_tax_1000)\n",
    "print (\"Profit margin :\")\n",
    "print (profit_margin)\n",
    "print (\"Good months :\")\n",
    "print (good_months)\n",
    "print (\"Bad months :\")\n",
    "print (bad_months)\n",
    "print (\"Best month :\")\n",
    "print (best_month)\n",
    "print (\"Worst month :\")\n",
    "print (worst_month)\n"
   ]
  },
  {
   "cell_type": "code",
   "execution_count": 2,
   "metadata": {
    "collapsed": true
   },
   "outputs": [],
   "source": [
    "####HOMEWORK RUN THROUGH \n",
    "\n",
    "#Data \n",
    "revenue = [14574.49, 7606.46, 8611.41, 9175.41, 8058.65, 8105.44, 11496.28, 9766.09, 10305.32, 14379.96, 10713.97, 15433.50]\n",
    "expenses = [12051.82, 5695.07, 12319.20, 12089.72, 8658.57, 840.20, 3285.73, 5821.12, 6976.93, 16618.61, 10054.37, 3803.96]\n"
   ]
  },
  {
   "cell_type": "code",
   "execution_count": 3,
   "metadata": {},
   "outputs": [
    {
     "data": {
      "text/plain": [
       "[2522.67,\n",
       " 1911.3900000000003,\n",
       " -3707.790000000001,\n",
       " -2914.3099999999995,\n",
       " -599.9200000000001,\n",
       " 7265.24,\n",
       " 8210.550000000001,\n",
       " 3944.9700000000003,\n",
       " 3328.3899999999994,\n",
       " -2238.6500000000015,\n",
       " 659.5999999999985,\n",
       " 11629.54]"
      ]
     },
     "execution_count": 3,
     "metadata": {},
     "output_type": "execute_result"
    }
   ],
   "source": [
    "# CALCULATING PROFIT \n",
    "\n",
    "profit = []\n",
    "\n",
    "for i in range(0,len(revenue)):\n",
    "    profit.append(revenue[i] - expenses[i])\n",
    "\n",
    "profit"
   ]
  },
  {
   "cell_type": "code",
   "execution_count": 7,
   "metadata": {},
   "outputs": [
    {
     "data": {
      "text/plain": [
       "[756.8,\n",
       " 573.42,\n",
       " -1112.34,\n",
       " -874.29,\n",
       " -179.98,\n",
       " 2179.57,\n",
       " 2463.17,\n",
       " 1183.49,\n",
       " 998.52,\n",
       " -671.6,\n",
       " 197.88,\n",
       " 3488.86]"
      ]
     },
     "execution_count": 7,
     "metadata": {},
     "output_type": "execute_result"
    }
   ],
   "source": [
    "# calculating tax (profit * 30%)\n",
    "tax = [round(i*0.3,2) for i in profit]\n",
    "tax"
   ]
  },
  {
   "cell_type": "code",
   "execution_count": 9,
   "metadata": {},
   "outputs": [
    {
     "data": {
      "text/plain": [
       "[1765.8700000000001,\n",
       " 1337.9700000000003,\n",
       " -2595.4500000000007,\n",
       " -2040.0199999999995,\n",
       " -419.94000000000005,\n",
       " 5085.67,\n",
       " 5747.380000000001,\n",
       " 2761.4800000000005,\n",
       " 2329.8699999999994,\n",
       " -1567.0500000000015,\n",
       " 461.71999999999855,\n",
       " 8140.68]"
      ]
     },
     "execution_count": 9,
     "metadata": {},
     "output_type": "execute_result"
    }
   ],
   "source": [
    "#profit after tax\n",
    "profitAfterTax = []\n",
    "\n",
    "for i in range(0, len(profit)):\n",
    "    profitAfterTax.append(profit[i]-tax[i])\n",
    "profitAfterTax"
   ]
  },
  {
   "cell_type": "code",
   "execution_count": 15,
   "metadata": {},
   "outputs": [
    {
     "data": {
      "text/plain": [
       "[12.12,\n",
       " 17.59,\n",
       " -30.14,\n",
       " -22.23,\n",
       " -5.21,\n",
       " 62.74,\n",
       " 49.99,\n",
       " 28.28,\n",
       " 22.61,\n",
       " -10.9,\n",
       " 4.31,\n",
       " 52.75]"
      ]
     },
     "execution_count": 15,
     "metadata": {},
     "output_type": "execute_result"
    }
   ],
   "source": [
    "# profit margin after tax\n",
    "\n",
    "profitMargin = []\n",
    "\n",
    "for i in range(0,len(profit)):\n",
    "    profitMargin.append(profitAfterTax[i]/revenue[i])\n",
    "\n",
    "profitMargin = [round((i*100),2) for i in profitMargin]\n",
    "profitMargin"
   ]
  },
  {
   "cell_type": "code",
   "execution_count": 16,
   "metadata": {},
   "outputs": [
    {
     "data": {
      "text/plain": [
       "1750.6816666666666"
      ]
     },
     "execution_count": 16,
     "metadata": {},
     "output_type": "execute_result"
    }
   ],
   "source": [
    "mean_pat = sum(profitAfterTax)/len(profitAfterTax)\n",
    "mean_pat"
   ]
  },
  {
   "cell_type": "code",
   "execution_count": 20,
   "metadata": {},
   "outputs": [
    {
     "data": {
      "text/plain": [
       "[False, True, True, True, True, False, False, False, False, True, True, False]"
      ]
     },
     "execution_count": 20,
     "metadata": {},
     "output_type": "execute_result"
    }
   ],
   "source": [
    "goodMonths = []\n",
    "badMonths = []\n",
    "for i in range(0, len(profit)):\n",
    "    goodMonths.append(profitAfterTax[i] > mean_pat)\n",
    "    badMonths.append(profitAfterTax[i] < mean_pat)\n",
    "    \n",
    "badMonths"
   ]
  },
  {
   "cell_type": "code",
   "execution_count": 22,
   "metadata": {},
   "outputs": [
    {
     "data": {
      "text/plain": [
       "8140.68"
      ]
     },
     "execution_count": 22,
     "metadata": {},
     "output_type": "execute_result"
    }
   ],
   "source": [
    "bestMonth = max(profitAfterTax)\n",
    "bestMonth"
   ]
  },
  {
   "cell_type": "code",
   "execution_count": 23,
   "metadata": {},
   "outputs": [
    {
     "data": {
      "text/plain": [
       "-2595.4500000000007"
      ]
     },
     "execution_count": 23,
     "metadata": {},
     "output_type": "execute_result"
    }
   ],
   "source": [
    "worstMonth = min(profitAfterTax)\n",
    "worstMonth"
   ]
  },
  {
   "cell_type": "code",
   "execution_count": null,
   "metadata": {
    "collapsed": true
   },
   "outputs": [],
   "source": []
  }
 ],
 "metadata": {
  "kernelspec": {
   "display_name": "Python 3",
   "language": "python",
   "name": "python3"
  },
  "language_info": {
   "codemirror_mode": {
    "name": "ipython",
    "version": 3
   },
   "file_extension": ".py",
   "mimetype": "text/x-python",
   "name": "python",
   "nbconvert_exporter": "python",
   "pygments_lexer": "ipython3",
   "version": "3.6.1"
  }
 },
 "nbformat": 4,
 "nbformat_minor": 2
}
